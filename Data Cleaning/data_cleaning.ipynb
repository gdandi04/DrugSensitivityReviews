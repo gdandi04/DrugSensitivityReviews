{
 "cells": [
  {
   "cell_type": "code",
   "execution_count": 1,
   "id": "clinical-supplement",
   "metadata": {
    "executionInfo": {
     "elapsed": 772,
     "status": "ok",
     "timestamp": 1618187453316,
     "user": {
      "displayName": "Emma Brown-Carley",
      "photoUrl": "",
      "userId": "01558089402187054450"
     },
     "user_tz": 240
    },
    "id": "clinical-supplement"
   },
   "outputs": [],
   "source": [
    "import numpy as np\n",
    "import pandas as pd\n",
    "import math"
   ]
  },
  {
   "cell_type": "code",
   "execution_count": 3,
   "id": "functional-marker",
   "metadata": {
    "id": "functional-marker"
   },
   "outputs": [],
   "source": [
    "gdsc1 = pd.read_csv(\"GDSC1_fitted_dose_response_25Feb20.csv\")\n",
    "gdsc2 = pd.read_csv(\"GDSC2_fitted_dose_response_25Feb20.csv\")\n",
    "train = pd.read_csv(\"drugsCom_raw/drugsComTrain_raw.tsv\", delimiter = \"\\t\")\n",
    "test = pd.read_csv(\"drugsCom_raw/drugsComTest_raw.tsv\", delimiter = \"\\t\")"
   ]
  },
  {
   "cell_type": "markdown",
   "id": "collective-story",
   "metadata": {
    "id": "collective-story"
   },
   "source": [
    "## Drug Review Datasets"
   ]
  },
  {
   "cell_type": "code",
   "execution_count": 4,
   "id": "supported-subsection",
   "metadata": {
    "id": "supported-subsection"
   },
   "outputs": [],
   "source": [
    "drug_review = pd.concat([train, test], axis = 0)"
   ]
  },
  {
   "cell_type": "code",
   "execution_count": 6,
   "id": "greek-lingerie",
   "metadata": {
    "id": "greek-lingerie",
    "outputId": "6ae145c7-91da-4a35-e644-7fe2d19ccb1b"
   },
   "outputs": [
    {
     "data": {
      "text/html": [
       "<div>\n",
       "<style scoped>\n",
       "    .dataframe tbody tr th:only-of-type {\n",
       "        vertical-align: middle;\n",
       "    }\n",
       "\n",
       "    .dataframe tbody tr th {\n",
       "        vertical-align: top;\n",
       "    }\n",
       "\n",
       "    .dataframe thead th {\n",
       "        text-align: right;\n",
       "    }\n",
       "</style>\n",
       "<table border=\"1\" class=\"dataframe\">\n",
       "  <thead>\n",
       "    <tr style=\"text-align: right;\">\n",
       "      <th></th>\n",
       "      <th>Unnamed: 0</th>\n",
       "      <th>drugName</th>\n",
       "      <th>condition</th>\n",
       "      <th>review</th>\n",
       "      <th>rating</th>\n",
       "      <th>date</th>\n",
       "      <th>usefulCount</th>\n",
       "    </tr>\n",
       "  </thead>\n",
       "  <tbody>\n",
       "    <tr>\n",
       "      <th>0</th>\n",
       "      <td>206461</td>\n",
       "      <td>Valsartan</td>\n",
       "      <td>Left Ventricular Dysfunction</td>\n",
       "      <td>\"It has no side effect, I take it in combinati...</td>\n",
       "      <td>9.0</td>\n",
       "      <td>May 20, 2012</td>\n",
       "      <td>27</td>\n",
       "    </tr>\n",
       "    <tr>\n",
       "      <th>1</th>\n",
       "      <td>95260</td>\n",
       "      <td>Guanfacine</td>\n",
       "      <td>ADHD</td>\n",
       "      <td>\"My son is halfway through his fourth week of ...</td>\n",
       "      <td>8.0</td>\n",
       "      <td>April 27, 2010</td>\n",
       "      <td>192</td>\n",
       "    </tr>\n",
       "    <tr>\n",
       "      <th>2</th>\n",
       "      <td>92703</td>\n",
       "      <td>Lybrel</td>\n",
       "      <td>Birth Control</td>\n",
       "      <td>\"I used to take another oral contraceptive, wh...</td>\n",
       "      <td>5.0</td>\n",
       "      <td>December 14, 2009</td>\n",
       "      <td>17</td>\n",
       "    </tr>\n",
       "    <tr>\n",
       "      <th>3</th>\n",
       "      <td>138000</td>\n",
       "      <td>Ortho Evra</td>\n",
       "      <td>Birth Control</td>\n",
       "      <td>\"This is my first time using any form of birth...</td>\n",
       "      <td>8.0</td>\n",
       "      <td>November 3, 2015</td>\n",
       "      <td>10</td>\n",
       "    </tr>\n",
       "    <tr>\n",
       "      <th>4</th>\n",
       "      <td>35696</td>\n",
       "      <td>Buprenorphine / naloxone</td>\n",
       "      <td>Opiate Dependence</td>\n",
       "      <td>\"Suboxone has completely turned my life around...</td>\n",
       "      <td>9.0</td>\n",
       "      <td>November 27, 2016</td>\n",
       "      <td>37</td>\n",
       "    </tr>\n",
       "  </tbody>\n",
       "</table>\n",
       "</div>"
      ],
      "text/plain": [
       "   Unnamed: 0                  drugName                     condition  \\\n",
       "0      206461                 Valsartan  Left Ventricular Dysfunction   \n",
       "1       95260                Guanfacine                          ADHD   \n",
       "2       92703                    Lybrel                 Birth Control   \n",
       "3      138000                Ortho Evra                 Birth Control   \n",
       "4       35696  Buprenorphine / naloxone             Opiate Dependence   \n",
       "\n",
       "                                              review  rating  \\\n",
       "0  \"It has no side effect, I take it in combinati...     9.0   \n",
       "1  \"My son is halfway through his fourth week of ...     8.0   \n",
       "2  \"I used to take another oral contraceptive, wh...     5.0   \n",
       "3  \"This is my first time using any form of birth...     8.0   \n",
       "4  \"Suboxone has completely turned my life around...     9.0   \n",
       "\n",
       "                date  usefulCount  \n",
       "0       May 20, 2012           27  \n",
       "1     April 27, 2010          192  \n",
       "2  December 14, 2009           17  \n",
       "3   November 3, 2015           10  \n",
       "4  November 27, 2016           37  "
      ]
     },
     "execution_count": 6,
     "metadata": {},
     "output_type": "execute_result"
    }
   ],
   "source": [
    "drug_review.head()"
   ]
  },
  {
   "cell_type": "code",
   "execution_count": 7,
   "id": "respiratory-mountain",
   "metadata": {
    "id": "respiratory-mountain"
   },
   "outputs": [],
   "source": [
    "drug_review = drug_review.drop(\"Unnamed: 0\", axis = 1)"
   ]
  },
  {
   "cell_type": "code",
   "execution_count": 10,
   "id": "statutory-double",
   "metadata": {
    "id": "statutory-double"
   },
   "outputs": [
    {
     "data": {
      "text/html": [
       "<div>\n",
       "<style scoped>\n",
       "    .dataframe tbody tr th:only-of-type {\n",
       "        vertical-align: middle;\n",
       "    }\n",
       "\n",
       "    .dataframe tbody tr th {\n",
       "        vertical-align: top;\n",
       "    }\n",
       "\n",
       "    .dataframe thead th {\n",
       "        text-align: right;\n",
       "    }\n",
       "</style>\n",
       "<table border=\"1\" class=\"dataframe\">\n",
       "  <thead>\n",
       "    <tr style=\"text-align: right;\">\n",
       "      <th></th>\n",
       "      <th>drugName</th>\n",
       "      <th>condition</th>\n",
       "      <th>review</th>\n",
       "      <th>rating</th>\n",
       "      <th>date</th>\n",
       "      <th>usefulCount</th>\n",
       "    </tr>\n",
       "  </thead>\n",
       "  <tbody>\n",
       "    <tr>\n",
       "      <th>0</th>\n",
       "      <td>Valsartan</td>\n",
       "      <td>Left Ventricular Dysfunction</td>\n",
       "      <td>\"It has no side effect, I take it in combinati...</td>\n",
       "      <td>9.0</td>\n",
       "      <td>May 20, 2012</td>\n",
       "      <td>27</td>\n",
       "    </tr>\n",
       "    <tr>\n",
       "      <th>1</th>\n",
       "      <td>Guanfacine</td>\n",
       "      <td>ADHD</td>\n",
       "      <td>\"My son is halfway through his fourth week of ...</td>\n",
       "      <td>8.0</td>\n",
       "      <td>April 27, 2010</td>\n",
       "      <td>192</td>\n",
       "    </tr>\n",
       "    <tr>\n",
       "      <th>2</th>\n",
       "      <td>Lybrel</td>\n",
       "      <td>Birth Control</td>\n",
       "      <td>\"I used to take another oral contraceptive, wh...</td>\n",
       "      <td>5.0</td>\n",
       "      <td>December 14, 2009</td>\n",
       "      <td>17</td>\n",
       "    </tr>\n",
       "    <tr>\n",
       "      <th>3</th>\n",
       "      <td>Ortho Evra</td>\n",
       "      <td>Birth Control</td>\n",
       "      <td>\"This is my first time using any form of birth...</td>\n",
       "      <td>8.0</td>\n",
       "      <td>November 3, 2015</td>\n",
       "      <td>10</td>\n",
       "    </tr>\n",
       "    <tr>\n",
       "      <th>4</th>\n",
       "      <td>Buprenorphine / naloxone</td>\n",
       "      <td>Opiate Dependence</td>\n",
       "      <td>\"Suboxone has completely turned my life around...</td>\n",
       "      <td>9.0</td>\n",
       "      <td>November 27, 2016</td>\n",
       "      <td>37</td>\n",
       "    </tr>\n",
       "  </tbody>\n",
       "</table>\n",
       "</div>"
      ],
      "text/plain": [
       "                   drugName                     condition  \\\n",
       "0                 Valsartan  Left Ventricular Dysfunction   \n",
       "1                Guanfacine                          ADHD   \n",
       "2                    Lybrel                 Birth Control   \n",
       "3                Ortho Evra                 Birth Control   \n",
       "4  Buprenorphine / naloxone             Opiate Dependence   \n",
       "\n",
       "                                              review  rating  \\\n",
       "0  \"It has no side effect, I take it in combinati...     9.0   \n",
       "1  \"My son is halfway through his fourth week of ...     8.0   \n",
       "2  \"I used to take another oral contraceptive, wh...     5.0   \n",
       "3  \"This is my first time using any form of birth...     8.0   \n",
       "4  \"Suboxone has completely turned my life around...     9.0   \n",
       "\n",
       "                date  usefulCount  \n",
       "0       May 20, 2012           27  \n",
       "1     April 27, 2010          192  \n",
       "2  December 14, 2009           17  \n",
       "3   November 3, 2015           10  \n",
       "4  November 27, 2016           37  "
      ]
     },
     "execution_count": 10,
     "metadata": {},
     "output_type": "execute_result"
    }
   ],
   "source": [
    "# drop na values \n",
    "drug_review = drug_review.dropna() # (213869 × 7)\n",
    "drug_review.head()"
   ]
  },
  {
   "cell_type": "code",
   "execution_count": 12,
   "id": "1808f227-80bc-4e14-987e-dc9d736c4733",
   "metadata": {},
   "outputs": [
    {
     "data": {
      "text/html": [
       "<div>\n",
       "<style scoped>\n",
       "    .dataframe tbody tr th:only-of-type {\n",
       "        vertical-align: middle;\n",
       "    }\n",
       "\n",
       "    .dataframe tbody tr th {\n",
       "        vertical-align: top;\n",
       "    }\n",
       "\n",
       "    .dataframe thead th {\n",
       "        text-align: right;\n",
       "    }\n",
       "</style>\n",
       "<table border=\"1\" class=\"dataframe\">\n",
       "  <thead>\n",
       "    <tr style=\"text-align: right;\">\n",
       "      <th></th>\n",
       "      <th>drugName</th>\n",
       "      <th>condition</th>\n",
       "      <th>review</th>\n",
       "      <th>rating</th>\n",
       "      <th>date</th>\n",
       "      <th>usefulCount</th>\n",
       "    </tr>\n",
       "  </thead>\n",
       "  <tbody>\n",
       "    <tr>\n",
       "      <th>54</th>\n",
       "      <td>Opdivo</td>\n",
       "      <td>Non-Small Cell Lung Cance</td>\n",
       "      <td>\"My mother died from lung cancer. Her last hop...</td>\n",
       "      <td>1.0</td>\n",
       "      <td>March 2, 2017</td>\n",
       "      <td>6</td>\n",
       "    </tr>\n",
       "    <tr>\n",
       "      <th>181</th>\n",
       "      <td>Ibrance</td>\n",
       "      <td>Breast Cancer, Metastatic</td>\n",
       "      <td>\"I was prompted to write this after reading so...</td>\n",
       "      <td>9.0</td>\n",
       "      <td>November 23, 2016</td>\n",
       "      <td>48</td>\n",
       "    </tr>\n",
       "    <tr>\n",
       "      <th>317</th>\n",
       "      <td>Anastrozole</td>\n",
       "      <td>Breast Cance</td>\n",
       "      <td>\"I have been on anastozole for a year and half...</td>\n",
       "      <td>6.0</td>\n",
       "      <td>June 27, 2016</td>\n",
       "      <td>40</td>\n",
       "    </tr>\n",
       "    <tr>\n",
       "      <th>904</th>\n",
       "      <td>Femara</td>\n",
       "      <td>Breast Cancer, Adjuvant</td>\n",
       "      <td>\"joint pain, no energy, no enthusiasm for soci...</td>\n",
       "      <td>10.0</td>\n",
       "      <td>May 13, 2016</td>\n",
       "      <td>39</td>\n",
       "    </tr>\n",
       "    <tr>\n",
       "      <th>1059</th>\n",
       "      <td>Xalkori</td>\n",
       "      <td>Non-Small Cell Lung Cance</td>\n",
       "      <td>\"My Father was given 6-8 weeks to live after h...</td>\n",
       "      <td>10.0</td>\n",
       "      <td>December 19, 2015</td>\n",
       "      <td>11</td>\n",
       "    </tr>\n",
       "  </tbody>\n",
       "</table>\n",
       "</div>"
      ],
      "text/plain": [
       "         drugName                  condition  \\\n",
       "54         Opdivo  Non-Small Cell Lung Cance   \n",
       "181       Ibrance  Breast Cancer, Metastatic   \n",
       "317   Anastrozole               Breast Cance   \n",
       "904        Femara    Breast Cancer, Adjuvant   \n",
       "1059      Xalkori  Non-Small Cell Lung Cance   \n",
       "\n",
       "                                                 review  rating  \\\n",
       "54    \"My mother died from lung cancer. Her last hop...     1.0   \n",
       "181   \"I was prompted to write this after reading so...     9.0   \n",
       "317   \"I have been on anastozole for a year and half...     6.0   \n",
       "904   \"joint pain, no energy, no enthusiasm for soci...    10.0   \n",
       "1059  \"My Father was given 6-8 weeks to live after h...    10.0   \n",
       "\n",
       "                   date  usefulCount  \n",
       "54        March 2, 2017            6  \n",
       "181   November 23, 2016           48  \n",
       "317       June 27, 2016           40  \n",
       "904        May 13, 2016           39  \n",
       "1059  December 19, 2015           11  "
      ]
     },
     "execution_count": 12,
     "metadata": {},
     "output_type": "execute_result"
    }
   ],
   "source": [
    "# find all misspellings of \"Cancer\"\n",
    "drug_review[drug_review[\"condition\"].str.contains(\"Cance\")].head()"
   ]
  },
  {
   "cell_type": "code",
   "execution_count": 14,
   "id": "12c4d6f5-02ef-4378-8edf-d4922573d556",
   "metadata": {},
   "outputs": [],
   "source": [
    "# replaced all misspellings of Cancer\n",
    "drug_review[\"condition\"] = drug_review.condition.str.replace(\"Cance\", \"Cancer\")"
   ]
  },
  {
   "cell_type": "code",
   "execution_count": 16,
   "id": "theoretical-second",
   "metadata": {
    "id": "theoretical-second"
   },
   "outputs": [],
   "source": [
    "# make all drug names uppercase, consistent with the cancer drug dataset\n",
    "drug_review[\"drugName\"] = drug_review[\"drugName\"].str.upper()"
   ]
  },
  {
   "cell_type": "code",
   "execution_count": 30,
   "id": "hired-jewelry",
   "metadata": {
    "id": "hired-jewelry"
   },
   "outputs": [],
   "source": [
    "# to CSV\n",
    "# drug_review.to_csv(\"drugReviews.csv\")"
   ]
  },
  {
   "cell_type": "markdown",
   "id": "respective-scholarship",
   "metadata": {
    "id": "respective-scholarship"
   },
   "source": [
    "## Cancer Drug Dataset"
   ]
  },
  {
   "cell_type": "code",
   "execution_count": 17,
   "id": "weekly-italic",
   "metadata": {
    "id": "weekly-italic"
   },
   "outputs": [],
   "source": [
    "gdsc1[\"DRUG_NAME\"] = gdsc1[\"DRUG_NAME\"].str.upper()\n",
    "gdsc2[\"DRUG_NAME\"] = gdsc2[\"DRUG_NAME\"].str.upper()"
   ]
  },
  {
   "cell_type": "code",
   "execution_count": 18,
   "id": "married-gibson",
   "metadata": {
    "id": "married-gibson"
   },
   "outputs": [],
   "source": [
    "drugs1 = list(gdsc1.DRUG_NAME)\n",
    "drugs2 = list(gdsc2.DRUG_NAME)"
   ]
  },
  {
   "cell_type": "code",
   "execution_count": 20,
   "id": "objective-dinner",
   "metadata": {
    "id": "objective-dinner",
    "outputId": "6a09ae3e-5205-4bbf-c8dc-9d5857a60182"
   },
   "outputs": [
    {
     "data": {
      "text/plain": [
       "(913, 6)"
      ]
     },
     "execution_count": 20,
     "metadata": {},
     "output_type": "execute_result"
    }
   ],
   "source": [
    "# common drugs between the two datasets\n",
    "drug_review[drug_review[\"drugName\"].isin(drugs1) | drug_review[\"drugName\"].isin(drugs2)].shape"
   ]
  },
  {
   "cell_type": "code",
   "execution_count": 21,
   "id": "quantitative-locator",
   "metadata": {
    "id": "quantitative-locator",
    "outputId": "ff62c669-f606-4f01-e638-2db865ecdae5"
   },
   "outputs": [
    {
     "name": "stdout",
     "output_type": "stream",
     "text": [
      "(310904, 19)\n",
      "(135242, 19)\n"
     ]
    }
   ],
   "source": [
    "print(gdsc1.shape)\n",
    "print(gdsc2.shape)"
   ]
  },
  {
   "cell_type": "code",
   "execution_count": 22,
   "id": "prime-vulnerability",
   "metadata": {
    "id": "prime-vulnerability"
   },
   "outputs": [],
   "source": [
    "# combine the two cancer drug datasets\n",
    "gdsc = pd.concat([gdsc1, gdsc2])"
   ]
  },
  {
   "cell_type": "code",
   "execution_count": 23,
   "id": "quality-nepal",
   "metadata": {
    "id": "quality-nepal",
    "outputId": "f52f0ff5-6a85-46d2-a8f9-5fbf9f310adf"
   },
   "outputs": [
    {
     "data": {
      "text/plain": [
       "(446146, 19)"
      ]
     },
     "execution_count": 23,
     "metadata": {},
     "output_type": "execute_result"
    }
   ],
   "source": [
    "gdsc.shape"
   ]
  },
  {
   "cell_type": "code",
   "execution_count": 25,
   "id": "prime-antenna",
   "metadata": {
    "id": "prime-antenna"
   },
   "outputs": [],
   "source": [
    "# separate PUTATIVE_TARGET into a separate row for each target type\n",
    "gdsc = gdsc.set_index(['DATASET', 'NLME_RESULT_ID', 'NLME_CURVE_ID', 'COSMIC_ID',\n",
    "       'CELL_LINE_NAME', 'SANGER_MODEL_ID', 'TCGA_DESC', 'DRUG_ID',\n",
    "       'DRUG_NAME', 'PATHWAY_NAME', 'COMPANY_ID',\n",
    "       'WEBRELEASE', 'MIN_CONC', 'MAX_CONC', 'LN_IC50', 'AUC', 'RMSE',\n",
    "       'Z_SCORE']).apply(lambda x: x.str.split(',').explode())"
   ]
  },
  {
   "cell_type": "code",
   "execution_count": 26,
   "id": "dimensional-latvia",
   "metadata": {
    "id": "dimensional-latvia"
   },
   "outputs": [],
   "source": [
    "# to CSV\n",
    "# gdsc.reset_index().to_csv(\"gdsc.csv\")"
   ]
  }
 ],
 "metadata": {
  "colab": {
   "name": "data_cleaning.ipynb",
   "provenance": []
  },
  "kernelspec": {
   "display_name": "Python 3",
   "language": "python",
   "name": "python3"
  },
  "language_info": {
   "codemirror_mode": {
    "name": "ipython",
    "version": 3
   },
   "file_extension": ".py",
   "mimetype": "text/x-python",
   "name": "python",
   "nbconvert_exporter": "python",
   "pygments_lexer": "ipython3",
   "version": "3.9.4"
  }
 },
 "nbformat": 4,
 "nbformat_minor": 5
}
